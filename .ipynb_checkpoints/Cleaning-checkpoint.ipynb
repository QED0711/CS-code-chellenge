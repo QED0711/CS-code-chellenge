{
 "cells": [
  {
   "cell_type": "code",
   "execution_count": 40,
   "metadata": {
    "ExecuteTime": {
     "end_time": "2019-09-16T20:18:09.046004Z",
     "start_time": "2019-09-16T20:18:09.043833Z"
    }
   },
   "outputs": [],
   "source": [
    "import numpy as np\n",
    "import pandas as pd\n",
    "\n",
    "pd.set_option('display.max_colwidth', -1)"
   ]
  },
  {
   "cell_type": "code",
   "execution_count": 5,
   "metadata": {
    "ExecuteTime": {
     "end_time": "2019-09-16T19:42:25.617671Z",
     "start_time": "2019-09-16T19:42:25.549944Z"
    }
   },
   "outputs": [],
   "source": [
    "apt_df = pd.read_excel(\"./Apartment Names And Addresses.xlsx\")"
   ]
  },
  {
   "cell_type": "code",
   "execution_count": 18,
   "metadata": {
    "ExecuteTime": {
     "end_time": "2019-09-16T19:47:32.353795Z",
     "start_time": "2019-09-16T19:47:32.346139Z"
    }
   },
   "outputs": [
    {
     "data": {
      "text/html": [
       "<div>\n",
       "<style scoped>\n",
       "    .dataframe tbody tr th:only-of-type {\n",
       "        vertical-align: middle;\n",
       "    }\n",
       "\n",
       "    .dataframe tbody tr th {\n",
       "        vertical-align: top;\n",
       "    }\n",
       "\n",
       "    .dataframe thead th {\n",
       "        text-align: right;\n",
       "    }\n",
       "</style>\n",
       "<table border=\"1\" class=\"dataframe\">\n",
       "  <thead>\n",
       "    <tr style=\"text-align: right;\">\n",
       "      <th></th>\n",
       "      <th>BuildingRatingID</th>\n",
       "      <th>BuildingName</th>\n",
       "      <th>Address</th>\n",
       "      <th>City</th>\n",
       "      <th>State</th>\n",
       "      <th>Zip</th>\n",
       "    </tr>\n",
       "  </thead>\n",
       "  <tbody>\n",
       "    <tr>\n",
       "      <th>0</th>\n",
       "      <td>2.0</td>\n",
       "      <td>courtyard apartments</td>\n",
       "      <td>524 Chiechi Ave                               ...</td>\n",
       "      <td>San Jose</td>\n",
       "      <td>CA</td>\n",
       "      <td>95126</td>\n",
       "    </tr>\n",
       "    <tr>\n",
       "      <th>1</th>\n",
       "      <td>2.0</td>\n",
       "      <td>courtyard apartments</td>\n",
       "      <td>38665 E 11th St                               ...</td>\n",
       "      <td>Palmdale</td>\n",
       "      <td>CA</td>\n",
       "      <td>93550</td>\n",
       "    </tr>\n",
       "    <tr>\n",
       "      <th>2</th>\n",
       "      <td>2.0</td>\n",
       "      <td>courtyard apartments</td>\n",
       "      <td>38675 12th St E                               ...</td>\n",
       "      <td>Palmdale</td>\n",
       "      <td>CA</td>\n",
       "      <td>93550</td>\n",
       "    </tr>\n",
       "    <tr>\n",
       "      <th>3</th>\n",
       "      <td>2.0</td>\n",
       "      <td>courtyard apartments</td>\n",
       "      <td>800 Main St                                   ...</td>\n",
       "      <td>Van Meter</td>\n",
       "      <td>IA</td>\n",
       "      <td>50261</td>\n",
       "    </tr>\n",
       "    <tr>\n",
       "      <th>4</th>\n",
       "      <td>2.0</td>\n",
       "      <td>courtyard apartments</td>\n",
       "      <td>10036 Gould St                                ...</td>\n",
       "      <td>Riverside</td>\n",
       "      <td>CA</td>\n",
       "      <td>92503</td>\n",
       "    </tr>\n",
       "  </tbody>\n",
       "</table>\n",
       "</div>"
      ],
      "text/plain": [
       "   BuildingRatingID          BuildingName  \\\n",
       "0               2.0  courtyard apartments   \n",
       "1               2.0  courtyard apartments   \n",
       "2               2.0  courtyard apartments   \n",
       "3               2.0  courtyard apartments   \n",
       "4               2.0  courtyard apartments   \n",
       "\n",
       "                                             Address       City State    Zip  \n",
       "0  524 Chiechi Ave                               ...   San Jose    CA  95126  \n",
       "1  38665 E 11th St                               ...   Palmdale    CA  93550  \n",
       "2  38675 12th St E                               ...   Palmdale    CA  93550  \n",
       "3  800 Main St                                   ...  Van Meter    IA  50261  \n",
       "4  10036 Gould St                                ...  Riverside    CA  92503  "
      ]
     },
     "execution_count": 18,
     "metadata": {},
     "output_type": "execute_result"
    }
   ],
   "source": [
    "apt_df.head()"
   ]
  },
  {
   "cell_type": "code",
   "execution_count": 28,
   "metadata": {
    "ExecuteTime": {
     "end_time": "2019-09-16T20:09:41.099236Z",
     "start_time": "2019-09-16T20:09:41.092075Z"
    }
   },
   "outputs": [
    {
     "name": "stdout",
     "output_type": "stream",
     "text": [
      "<class 'pandas.core.frame.DataFrame'>\n",
      "RangeIndex: 811 entries, 0 to 810\n",
      "Data columns (total 6 columns):\n",
      "BuildingRatingID    810 non-null float64\n",
      "BuildingName        811 non-null object\n",
      "Address             811 non-null object\n",
      "City                811 non-null object\n",
      "State               811 non-null object\n",
      "Zip                 811 non-null int64\n",
      "dtypes: float64(1), int64(1), object(4)\n",
      "memory usage: 38.1+ KB\n"
     ]
    }
   ],
   "source": [
    "apt_df.info()"
   ]
  },
  {
   "cell_type": "code",
   "execution_count": null,
   "metadata": {},
   "outputs": [],
   "source": []
  },
  {
   "cell_type": "code",
   "execution_count": 44,
   "metadata": {
    "ExecuteTime": {
     "end_time": "2019-09-16T20:21:30.759152Z",
     "start_time": "2019-09-16T20:21:30.653342Z"
    }
   },
   "outputs": [],
   "source": [
    "def format_row(row):\n",
    "    rating = float(row.BuildingRatingID)\n",
    "    name = row.BuildingName.lower().strip()\n",
    "    address = row.Address.strip()\n",
    "    city = row.City.strip()\n",
    "    state = row.State.strip()\n",
    "    z = str(row.Zip) if row.Zip > 10000 else \"0\" + str(row.Zip)\n",
    "    \n",
    "    return {\n",
    "        'rating': rating,\n",
    "        'name': name,\n",
    "        'address': address,\n",
    "        'city': city,\n",
    "        'state': state,\n",
    "        'zipcode': z\n",
    "    }\n",
    "\n",
    "cleaned_rows = []\n",
    "\n",
    "for i, row in apt_df.iterrows():\n",
    "    cleaned_rows.append(format_row(row))\n",
    "    \n",
    "cleaned_df = pd.DataFrame(cleaned_rows)"
   ]
  }
 ],
 "metadata": {
  "kernelspec": {
   "display_name": "Python 3",
   "language": "python",
   "name": "python3"
  },
  "language_info": {
   "codemirror_mode": {
    "name": "ipython",
    "version": 3
   },
   "file_extension": ".py",
   "mimetype": "text/x-python",
   "name": "python",
   "nbconvert_exporter": "python",
   "pygments_lexer": "ipython3",
   "version": "3.7.3"
  }
 },
 "nbformat": 4,
 "nbformat_minor": 2
}
