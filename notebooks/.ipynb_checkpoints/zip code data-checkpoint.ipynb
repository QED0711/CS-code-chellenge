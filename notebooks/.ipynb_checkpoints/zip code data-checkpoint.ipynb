{
 "cells": [
  {
   "cell_type": "code",
   "execution_count": 1,
   "metadata": {
    "ExecuteTime": {
     "end_time": "2019-09-17T09:35:28.056134Z",
     "start_time": "2019-09-17T09:35:27.821760Z"
    }
   },
   "outputs": [],
   "source": [
    "import pandas as pd\n",
    "import pickle"
   ]
  },
  {
   "cell_type": "markdown",
   "metadata": {},
   "source": [
    "https://www.irs.gov/statistics/soi-tax-stats-individual-income-tax-statistics-2016-zip-code-data-soi"
   ]
  },
  {
   "cell_type": "code",
   "execution_count": 4,
   "metadata": {
    "ExecuteTime": {
     "end_time": "2019-09-17T09:36:04.340169Z",
     "start_time": "2019-09-17T09:36:02.964892Z"
    }
   },
   "outputs": [],
   "source": [
    "zc_df = pd.read_csv(\"../data/16zpallagi.csv\")\n",
    "pop_df = pd.read_csv('../data/2010_census_zip_pop.csv')"
   ]
  },
  {
   "cell_type": "markdown",
   "metadata": {},
   "source": [
    "* A02650: Total income\n",
    "* NUMDEP: Number of Dependents\n",
    "* N02300: Number of returns with unemployment"
   ]
  },
  {
   "cell_type": "markdown",
   "metadata": {},
   "source": [
    "# TAX"
   ]
  },
  {
   "cell_type": "code",
   "execution_count": 5,
   "metadata": {
    "ExecuteTime": {
     "end_time": "2019-09-17T09:36:12.234398Z",
     "start_time": "2019-09-17T09:36:11.907567Z"
    }
   },
   "outputs": [
    {
     "data": {
      "text/html": [
       "<div>\n",
       "<style scoped>\n",
       "    .dataframe tbody tr th:only-of-type {\n",
       "        vertical-align: middle;\n",
       "    }\n",
       "\n",
       "    .dataframe tbody tr th {\n",
       "        vertical-align: top;\n",
       "    }\n",
       "\n",
       "    .dataframe thead th {\n",
       "        text-align: right;\n",
       "    }\n",
       "</style>\n",
       "<table border=\"1\" class=\"dataframe\">\n",
       "  <thead>\n",
       "    <tr style=\"text-align: right;\">\n",
       "      <th></th>\n",
       "      <th>zipcode</th>\n",
       "      <th>total_income</th>\n",
       "      <th>num_dependents</th>\n",
       "      <th>num_unemployed</th>\n",
       "    </tr>\n",
       "  </thead>\n",
       "  <tbody>\n",
       "    <tr>\n",
       "      <th>0</th>\n",
       "      <td>0</td>\n",
       "      <td>3.397431e+07</td>\n",
       "      <td>304947.581699</td>\n",
       "      <td>18300.490196</td>\n",
       "    </tr>\n",
       "    <tr>\n",
       "      <th>1</th>\n",
       "      <td>1001</td>\n",
       "      <td>8.542433e+04</td>\n",
       "      <td>651.666667</td>\n",
       "      <td>81.666667</td>\n",
       "    </tr>\n",
       "    <tr>\n",
       "      <th>2</th>\n",
       "      <td>1002</td>\n",
       "      <td>1.363077e+05</td>\n",
       "      <td>688.333333</td>\n",
       "      <td>48.333333</td>\n",
       "    </tr>\n",
       "    <tr>\n",
       "      <th>3</th>\n",
       "      <td>1003</td>\n",
       "      <td>4.948000e+02</td>\n",
       "      <td>0.000000</td>\n",
       "      <td>0.000000</td>\n",
       "    </tr>\n",
       "    <tr>\n",
       "      <th>4</th>\n",
       "      <td>1005</td>\n",
       "      <td>2.326833e+04</td>\n",
       "      <td>206.666667</td>\n",
       "      <td>31.666667</td>\n",
       "    </tr>\n",
       "  </tbody>\n",
       "</table>\n",
       "</div>"
      ],
      "text/plain": [
       "   zipcode  total_income  num_dependents  num_unemployed\n",
       "0        0  3.397431e+07   304947.581699    18300.490196\n",
       "1     1001  8.542433e+04      651.666667       81.666667\n",
       "2     1002  1.363077e+05      688.333333       48.333333\n",
       "3     1003  4.948000e+02        0.000000        0.000000\n",
       "4     1005  2.326833e+04      206.666667       31.666667"
      ]
     },
     "execution_count": 5,
     "metadata": {},
     "output_type": "execute_result"
    }
   ],
   "source": [
    "tax_df = zc_df.groupby('zipcode').mean().reset_index()[['zipcode','A02650', 'NUMDEP', 'N02300']]\\\n",
    ".rename(columns={'A02650': \"total_income\", 'NUMDEP': 'num_dependents', 'N02300': 'num_unemployed'})\n",
    "\n",
    "tax_df.head()"
   ]
  },
  {
   "cell_type": "markdown",
   "metadata": {},
   "source": [
    "# POPULATION"
   ]
  },
  {
   "cell_type": "code",
   "execution_count": 6,
   "metadata": {
    "ExecuteTime": {
     "end_time": "2019-09-17T09:36:15.061120Z",
     "start_time": "2019-09-17T09:36:15.058329Z"
    }
   },
   "outputs": [],
   "source": [
    "pop_df.rename(columns={'Zip Code ZCTA': 'zipcode', '2010 Census Population': '2010_population'}, inplace=True)"
   ]
  },
  {
   "cell_type": "markdown",
   "metadata": {},
   "source": [
    "## MERGING: POPULATION + TAX"
   ]
  },
  {
   "cell_type": "code",
   "execution_count": 7,
   "metadata": {
    "ExecuteTime": {
     "end_time": "2019-09-17T09:36:16.034664Z",
     "start_time": "2019-09-17T09:36:16.027205Z"
    }
   },
   "outputs": [],
   "source": [
    "z_df = pop_df.merge(tax_df, on=\"zipcode\", how='inner')"
   ]
  },
  {
   "cell_type": "code",
   "execution_count": 8,
   "metadata": {
    "ExecuteTime": {
     "end_time": "2019-09-17T09:36:17.901574Z",
     "start_time": "2019-09-17T09:36:17.889740Z"
    }
   },
   "outputs": [],
   "source": [
    "def clean_zip(z):\n",
    "    cleaned = str(z) if z > 10000 else \"0\" + str(z)\n",
    "    return cleaned\n",
    "\n",
    "z_df.zipcode = z_df.zipcode.apply(clean_zip)"
   ]
  },
  {
   "cell_type": "markdown",
   "metadata": {},
   "source": [
    "# MEDIAN AGE"
   ]
  },
  {
   "cell_type": "code",
   "execution_count": 13,
   "metadata": {
    "ExecuteTime": {
     "end_time": "2019-09-17T09:42:14.753146Z",
     "start_time": "2019-09-17T09:42:14.718950Z"
    }
   },
   "outputs": [
    {
     "data": {
      "text/html": [
       "<div>\n",
       "<style scoped>\n",
       "    .dataframe tbody tr th:only-of-type {\n",
       "        vertical-align: middle;\n",
       "    }\n",
       "\n",
       "    .dataframe tbody tr th {\n",
       "        vertical-align: top;\n",
       "    }\n",
       "\n",
       "    .dataframe thead th {\n",
       "        text-align: right;\n",
       "    }\n",
       "</style>\n",
       "<table border=\"1\" class=\"dataframe\">\n",
       "  <thead>\n",
       "    <tr style=\"text-align: right;\">\n",
       "      <th></th>\n",
       "      <th>zipcode</th>\n",
       "      <th>median_age</th>\n",
       "    </tr>\n",
       "  </thead>\n",
       "  <tbody>\n",
       "    <tr>\n",
       "      <th>0</th>\n",
       "      <td>0601</td>\n",
       "      <td>37.1</td>\n",
       "    </tr>\n",
       "    <tr>\n",
       "      <th>1</th>\n",
       "      <td>0602</td>\n",
       "      <td>39.0</td>\n",
       "    </tr>\n",
       "    <tr>\n",
       "      <th>2</th>\n",
       "      <td>0603</td>\n",
       "      <td>39.2</td>\n",
       "    </tr>\n",
       "    <tr>\n",
       "      <th>3</th>\n",
       "      <td>0606</td>\n",
       "      <td>39.2</td>\n",
       "    </tr>\n",
       "    <tr>\n",
       "      <th>4</th>\n",
       "      <td>0610</td>\n",
       "      <td>39.7</td>\n",
       "    </tr>\n",
       "  </tbody>\n",
       "</table>\n",
       "</div>"
      ],
      "text/plain": [
       "  zipcode  median_age\n",
       "0    0601        37.1\n",
       "1    0602        39.0\n",
       "2    0603        39.2\n",
       "3    0606        39.2\n",
       "4    0610        39.7"
      ]
     },
     "execution_count": 13,
     "metadata": {},
     "output_type": "execute_result"
    }
   ],
   "source": [
    "age_df = pd.read_csv('../data/median_age_by_zip_code.csv')\\\n",
    ".rename(columns={'ZIP':'zipcode', 'Median_age': 'median_age'})[['zipcode', 'median_age']]\n",
    "\n",
    "age_df.zipcode = age_df.zipcode.apply(clean_zip)\n",
    "\n",
    "age_df.head()"
   ]
  },
  {
   "cell_type": "markdown",
   "metadata": {},
   "source": [
    "## MERGING: AGE + PRIOR MERGE "
   ]
  },
  {
   "cell_type": "code",
   "execution_count": 15,
   "metadata": {
    "ExecuteTime": {
     "end_time": "2019-09-17T09:46:50.950168Z",
     "start_time": "2019-09-17T09:46:50.947748Z"
    }
   },
   "outputs": [
    {
     "data": {
      "text/plain": [
       "(29958, 5)"
      ]
     },
     "execution_count": 15,
     "metadata": {},
     "output_type": "execute_result"
    }
   ],
   "source": [
    "z_df.shape"
   ]
  },
  {
   "cell_type": "code",
   "execution_count": 18,
   "metadata": {
    "ExecuteTime": {
     "end_time": "2019-09-17T09:48:01.458576Z",
     "start_time": "2019-09-17T09:48:01.438939Z"
    }
   },
   "outputs": [
    {
     "data": {
      "text/html": [
       "<div>\n",
       "<style scoped>\n",
       "    .dataframe tbody tr th:only-of-type {\n",
       "        vertical-align: middle;\n",
       "    }\n",
       "\n",
       "    .dataframe tbody tr th {\n",
       "        vertical-align: top;\n",
       "    }\n",
       "\n",
       "    .dataframe thead th {\n",
       "        text-align: right;\n",
       "    }\n",
       "</style>\n",
       "<table border=\"1\" class=\"dataframe\">\n",
       "  <thead>\n",
       "    <tr style=\"text-align: right;\">\n",
       "      <th></th>\n",
       "      <th>zipcode</th>\n",
       "      <th>2010_population</th>\n",
       "      <th>total_income</th>\n",
       "      <th>num_dependents</th>\n",
       "      <th>num_unemployed</th>\n",
       "      <th>median_age</th>\n",
       "    </tr>\n",
       "  </thead>\n",
       "  <tbody>\n",
       "    <tr>\n",
       "      <th>0</th>\n",
       "      <td>01001</td>\n",
       "      <td>16769</td>\n",
       "      <td>85424.333333</td>\n",
       "      <td>651.666667</td>\n",
       "      <td>81.666667</td>\n",
       "      <td>44.3</td>\n",
       "    </tr>\n",
       "    <tr>\n",
       "      <th>1</th>\n",
       "      <td>01002</td>\n",
       "      <td>29049</td>\n",
       "      <td>136307.666667</td>\n",
       "      <td>688.333333</td>\n",
       "      <td>48.333333</td>\n",
       "      <td>23.0</td>\n",
       "    </tr>\n",
       "    <tr>\n",
       "      <th>2</th>\n",
       "      <td>01003</td>\n",
       "      <td>10372</td>\n",
       "      <td>494.800000</td>\n",
       "      <td>0.000000</td>\n",
       "      <td>0.000000</td>\n",
       "      <td>20.0</td>\n",
       "    </tr>\n",
       "    <tr>\n",
       "      <th>3</th>\n",
       "      <td>01005</td>\n",
       "      <td>5079</td>\n",
       "      <td>23268.333333</td>\n",
       "      <td>206.666667</td>\n",
       "      <td>31.666667</td>\n",
       "      <td>42.7</td>\n",
       "    </tr>\n",
       "    <tr>\n",
       "      <th>4</th>\n",
       "      <td>01007</td>\n",
       "      <td>14649</td>\n",
       "      <td>94138.666667</td>\n",
       "      <td>681.666667</td>\n",
       "      <td>70.000000</td>\n",
       "      <td>41.8</td>\n",
       "    </tr>\n",
       "  </tbody>\n",
       "</table>\n",
       "</div>"
      ],
      "text/plain": [
       "  zipcode  2010_population   total_income  num_dependents  num_unemployed  \\\n",
       "0   01001            16769   85424.333333      651.666667       81.666667   \n",
       "1   01002            29049  136307.666667      688.333333       48.333333   \n",
       "2   01003            10372     494.800000        0.000000        0.000000   \n",
       "3   01005             5079   23268.333333      206.666667       31.666667   \n",
       "4   01007            14649   94138.666667      681.666667       70.000000   \n",
       "\n",
       "   median_age  \n",
       "0        44.3  \n",
       "1        23.0  \n",
       "2        20.0  \n",
       "3        42.7  \n",
       "4        41.8  "
      ]
     },
     "execution_count": 18,
     "metadata": {},
     "output_type": "execute_result"
    }
   ],
   "source": [
    "z_df_with_age = z_df.merge(age_df, on='zipcode', how='inner')\n",
    "\n",
    "z_df_with_age.head()"
   ]
  },
  {
   "cell_type": "code",
   "execution_count": 10,
   "metadata": {
    "ExecuteTime": {
     "end_time": "2019-09-17T09:36:31.090766Z",
     "start_time": "2019-09-17T09:36:31.083883Z"
    }
   },
   "outputs": [
    {
     "name": "stdout",
     "output_type": "stream",
     "text": [
      "<class 'pandas.core.frame.DataFrame'>\n",
      "RangeIndex: 811 entries, 0 to 810\n",
      "Data columns (total 6 columns):\n",
      "building_rating_id    810 non-null float64\n",
      "building_name         811 non-null object\n",
      "address               811 non-null object\n",
      "city                  811 non-null object\n",
      "state                 811 non-null object\n",
      "zipcode               811 non-null object\n",
      "dtypes: float64(1), object(5)\n",
      "memory usage: 38.1+ KB\n"
     ]
    }
   ],
   "source": [
    "with open('../data/cleaned_original.pkl', 'rb') as file:\n",
    "    cleaned_original = pickle.load(file)\n",
    "cleaned_original.info()"
   ]
  },
  {
   "cell_type": "code",
   "execution_count": 21,
   "metadata": {
    "ExecuteTime": {
     "end_time": "2019-09-17T09:51:30.915875Z",
     "start_time": "2019-09-17T09:51:30.889612Z"
    }
   },
   "outputs": [
    {
     "data": {
      "text/html": [
       "<div>\n",
       "<style scoped>\n",
       "    .dataframe tbody tr th:only-of-type {\n",
       "        vertical-align: middle;\n",
       "    }\n",
       "\n",
       "    .dataframe tbody tr th {\n",
       "        vertical-align: top;\n",
       "    }\n",
       "\n",
       "    .dataframe thead th {\n",
       "        text-align: right;\n",
       "    }\n",
       "</style>\n",
       "<table border=\"1\" class=\"dataframe\">\n",
       "  <thead>\n",
       "    <tr style=\"text-align: right;\">\n",
       "      <th></th>\n",
       "      <th>building_rating_id</th>\n",
       "      <th>building_name</th>\n",
       "      <th>address</th>\n",
       "      <th>city</th>\n",
       "      <th>state</th>\n",
       "      <th>zipcode</th>\n",
       "      <th>2010_population</th>\n",
       "      <th>total_income</th>\n",
       "      <th>num_dependents</th>\n",
       "      <th>num_unemployed</th>\n",
       "      <th>median_age</th>\n",
       "    </tr>\n",
       "  </thead>\n",
       "  <tbody>\n",
       "    <tr>\n",
       "      <th>0</th>\n",
       "      <td>2.0</td>\n",
       "      <td>courtyard apartments</td>\n",
       "      <td>524 Chiechi Ave</td>\n",
       "      <td>San Jose</td>\n",
       "      <td>CA</td>\n",
       "      <td>95126</td>\n",
       "      <td>31049</td>\n",
       "      <td>314336.000000</td>\n",
       "      <td>1598.333333</td>\n",
       "      <td>138.333333</td>\n",
       "      <td>33.8</td>\n",
       "    </tr>\n",
       "    <tr>\n",
       "      <th>1</th>\n",
       "      <td>3.0</td>\n",
       "      <td>parkview apartments</td>\n",
       "      <td>360 Meridian Ave</td>\n",
       "      <td>San Jose</td>\n",
       "      <td>CA</td>\n",
       "      <td>95126</td>\n",
       "      <td>31049</td>\n",
       "      <td>314336.000000</td>\n",
       "      <td>1598.333333</td>\n",
       "      <td>138.333333</td>\n",
       "      <td>33.8</td>\n",
       "    </tr>\n",
       "    <tr>\n",
       "      <th>2</th>\n",
       "      <td>2.0</td>\n",
       "      <td>courtyard apartments</td>\n",
       "      <td>38665 E 11th St</td>\n",
       "      <td>Palmdale</td>\n",
       "      <td>CA</td>\n",
       "      <td>93550</td>\n",
       "      <td>74929</td>\n",
       "      <td>178149.333333</td>\n",
       "      <td>5235.000000</td>\n",
       "      <td>291.666667</td>\n",
       "      <td>27.1</td>\n",
       "    </tr>\n",
       "    <tr>\n",
       "      <th>3</th>\n",
       "      <td>2.0</td>\n",
       "      <td>courtyard apartments</td>\n",
       "      <td>38675 12th St E</td>\n",
       "      <td>Palmdale</td>\n",
       "      <td>CA</td>\n",
       "      <td>93550</td>\n",
       "      <td>74929</td>\n",
       "      <td>178149.333333</td>\n",
       "      <td>5235.000000</td>\n",
       "      <td>291.666667</td>\n",
       "      <td>27.1</td>\n",
       "    </tr>\n",
       "    <tr>\n",
       "      <th>4</th>\n",
       "      <td>2.0</td>\n",
       "      <td>courtyard apartments</td>\n",
       "      <td>800 Main St</td>\n",
       "      <td>Van Meter</td>\n",
       "      <td>IA</td>\n",
       "      <td>50261</td>\n",
       "      <td>2211</td>\n",
       "      <td>19393.333333</td>\n",
       "      <td>155.000000</td>\n",
       "      <td>6.666667</td>\n",
       "      <td>38.8</td>\n",
       "    </tr>\n",
       "  </tbody>\n",
       "</table>\n",
       "</div>"
      ],
      "text/plain": [
       "   building_rating_id         building_name           address       city  \\\n",
       "0                 2.0  courtyard apartments   524 Chiechi Ave   San Jose   \n",
       "1                 3.0   parkview apartments  360 Meridian Ave   San Jose   \n",
       "2                 2.0  courtyard apartments   38665 E 11th St   Palmdale   \n",
       "3                 2.0  courtyard apartments   38675 12th St E   Palmdale   \n",
       "4                 2.0  courtyard apartments       800 Main St  Van Meter   \n",
       "\n",
       "  state zipcode  2010_population   total_income  num_dependents  \\\n",
       "0    CA   95126            31049  314336.000000     1598.333333   \n",
       "1    CA   95126            31049  314336.000000     1598.333333   \n",
       "2    CA   93550            74929  178149.333333     5235.000000   \n",
       "3    CA   93550            74929  178149.333333     5235.000000   \n",
       "4    IA   50261             2211   19393.333333      155.000000   \n",
       "\n",
       "   num_unemployed  median_age  \n",
       "0      138.333333        33.8  \n",
       "1      138.333333        33.8  \n",
       "2      291.666667        27.1  \n",
       "3      291.666667        27.1  \n",
       "4        6.666667        38.8  "
      ]
     },
     "execution_count": 21,
     "metadata": {},
     "output_type": "execute_result"
    }
   ],
   "source": [
    "merged_zip = cleaned_original.merge(z_df_with_age, on='zipcode', how='inner')\n",
    "\n",
    "merged_zip.head()"
   ]
  },
  {
   "cell_type": "code",
   "execution_count": 22,
   "metadata": {
    "ExecuteTime": {
     "end_time": "2019-09-17T09:51:34.443801Z",
     "start_time": "2019-09-17T09:51:34.441268Z"
    }
   },
   "outputs": [],
   "source": [
    "with open('./final_data.pkl', 'wb') as file:\n",
    "    pickle.dump(merged_zip, file)"
   ]
  }
 ],
 "metadata": {
  "kernelspec": {
   "display_name": "Python 3",
   "language": "python",
   "name": "python3"
  },
  "language_info": {
   "codemirror_mode": {
    "name": "ipython",
    "version": 3
   },
   "file_extension": ".py",
   "mimetype": "text/x-python",
   "name": "python",
   "nbconvert_exporter": "python",
   "pygments_lexer": "ipython3",
   "version": "3.7.3"
  }
 },
 "nbformat": 4,
 "nbformat_minor": 2
}
