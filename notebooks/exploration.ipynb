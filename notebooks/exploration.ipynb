{
 "cells": [
  {
   "cell_type": "code",
   "execution_count": 1,
   "metadata": {
    "ExecuteTime": {
     "end_time": "2019-09-16T20:26:37.663248Z",
     "start_time": "2019-09-16T20:26:37.427563Z"
    }
   },
   "outputs": [],
   "source": [
    "import numpy as np\n",
    "import pandas as pd"
   ]
  },
  {
   "cell_type": "code",
   "execution_count": 3,
   "metadata": {
    "ExecuteTime": {
     "end_time": "2019-09-16T20:35:06.760588Z",
     "start_time": "2019-09-16T20:35:06.752263Z"
    }
   },
   "outputs": [
    {
     "data": {
      "text/html": [
       "<div>\n",
       "<style scoped>\n",
       "    .dataframe tbody tr th:only-of-type {\n",
       "        vertical-align: middle;\n",
       "    }\n",
       "\n",
       "    .dataframe tbody tr th {\n",
       "        vertical-align: top;\n",
       "    }\n",
       "\n",
       "    .dataframe thead th {\n",
       "        text-align: right;\n",
       "    }\n",
       "</style>\n",
       "<table border=\"1\" class=\"dataframe\">\n",
       "  <thead>\n",
       "    <tr style=\"text-align: right;\">\n",
       "      <th></th>\n",
       "      <th>building_rating_id</th>\n",
       "      <th>building_name</th>\n",
       "      <th>address</th>\n",
       "      <th>city</th>\n",
       "      <th>state</th>\n",
       "      <th>zipcode</th>\n",
       "    </tr>\n",
       "  </thead>\n",
       "  <tbody>\n",
       "    <tr>\n",
       "      <th>0</th>\n",
       "      <td>2.0</td>\n",
       "      <td>courtyard apartments</td>\n",
       "      <td>524 Chiechi Ave</td>\n",
       "      <td>San Jose</td>\n",
       "      <td>CA</td>\n",
       "      <td>95126</td>\n",
       "    </tr>\n",
       "    <tr>\n",
       "      <th>1</th>\n",
       "      <td>2.0</td>\n",
       "      <td>courtyard apartments</td>\n",
       "      <td>38665 E 11th St</td>\n",
       "      <td>Palmdale</td>\n",
       "      <td>CA</td>\n",
       "      <td>93550</td>\n",
       "    </tr>\n",
       "    <tr>\n",
       "      <th>2</th>\n",
       "      <td>2.0</td>\n",
       "      <td>courtyard apartments</td>\n",
       "      <td>38675 12th St E</td>\n",
       "      <td>Palmdale</td>\n",
       "      <td>CA</td>\n",
       "      <td>93550</td>\n",
       "    </tr>\n",
       "    <tr>\n",
       "      <th>3</th>\n",
       "      <td>2.0</td>\n",
       "      <td>courtyard apartments</td>\n",
       "      <td>800 Main St</td>\n",
       "      <td>Van Meter</td>\n",
       "      <td>IA</td>\n",
       "      <td>50261</td>\n",
       "    </tr>\n",
       "    <tr>\n",
       "      <th>4</th>\n",
       "      <td>2.0</td>\n",
       "      <td>courtyard apartments</td>\n",
       "      <td>10036 Gould St</td>\n",
       "      <td>Riverside</td>\n",
       "      <td>CA</td>\n",
       "      <td>92503</td>\n",
       "    </tr>\n",
       "  </tbody>\n",
       "</table>\n",
       "</div>"
      ],
      "text/plain": [
       "   building_rating_id         building_name          address       city state  \\\n",
       "0                 2.0  courtyard apartments  524 Chiechi Ave   San Jose    CA   \n",
       "1                 2.0  courtyard apartments  38665 E 11th St   Palmdale    CA   \n",
       "2                 2.0  courtyard apartments  38675 12th St E   Palmdale    CA   \n",
       "3                 2.0  courtyard apartments      800 Main St  Van Meter    IA   \n",
       "4                 2.0  courtyard apartments   10036 Gould St  Riverside    CA   \n",
       "\n",
       "   zipcode  \n",
       "0    95126  \n",
       "1    93550  \n",
       "2    93550  \n",
       "3    50261  \n",
       "4    92503  "
      ]
     },
     "execution_count": 3,
     "metadata": {},
     "output_type": "execute_result"
    }
   ],
   "source": [
    "apt_df = pd.read_csv(\"cleaned_original.csv\")\n",
    "apt_df.head()"
   ]
  },
  {
   "cell_type": "code",
   "execution_count": 13,
   "metadata": {
    "ExecuteTime": {
     "end_time": "2019-09-16T21:04:10.301085Z",
     "start_time": "2019-09-16T21:04:10.295001Z"
    }
   },
   "outputs": [
    {
     "data": {
      "text/plain": [
       "CA    151\n",
       "TX     54\n",
       "WA     45\n",
       "MN     40\n",
       "MI     33\n",
       "WI     32\n",
       "FL     31\n",
       "OH     29\n",
       "IL     29\n",
       "NY     26\n",
       "PA     23\n",
       "OR     22\n",
       "NC     21\n",
       "MO     19\n",
       "GA     19\n",
       "CO     14\n",
       "IN     14\n",
       "AZ     12\n",
       "NJ     11\n",
       "NE     11\n",
       "IA     11\n",
       "AL     10\n",
       "LA     10\n",
       "VA     10\n",
       "OK     10\n",
       "KY      9\n",
       "KS      9\n",
       "TN      9\n",
       "NV      9\n",
       "AR      8\n",
       "ID      7\n",
       "CT      7\n",
       "MA      7\n",
       "AK      6\n",
       "SC      6\n",
       "MS      6\n",
       "NM      5\n",
       "NH      5\n",
       "MD      5\n",
       "ND      4\n",
       "DE      4\n",
       "SD      3\n",
       "WV      3\n",
       "UT      3\n",
       "ME      2\n",
       "HI      2\n",
       "WY      2\n",
       "MT      1\n",
       "DC      1\n",
       "VT      1\n",
       "Name: state, dtype: int64"
      ]
     },
     "execution_count": 13,
     "metadata": {},
     "output_type": "execute_result"
    }
   ],
   "source": [
    "apt_df.state.value_counts()"
   ]
  }
 ],
 "metadata": {
  "kernelspec": {
   "display_name": "Python 3",
   "language": "python",
   "name": "python3"
  },
  "language_info": {
   "codemirror_mode": {
    "name": "ipython",
    "version": 3
   },
   "file_extension": ".py",
   "mimetype": "text/x-python",
   "name": "python",
   "nbconvert_exporter": "python",
   "pygments_lexer": "ipython3",
   "version": "3.7.3"
  }
 },
 "nbformat": 4,
 "nbformat_minor": 2
}
