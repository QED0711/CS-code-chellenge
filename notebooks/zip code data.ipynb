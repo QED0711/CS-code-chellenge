{
 "cells": [
  {
   "cell_type": "code",
   "execution_count": 33,
   "metadata": {
    "ExecuteTime": {
     "end_time": "2019-09-16T22:59:42.938888Z",
     "start_time": "2019-09-16T22:59:42.937222Z"
    }
   },
   "outputs": [],
   "source": [
    "import pandas as pd\n",
    "import pickle"
   ]
  },
  {
   "cell_type": "markdown",
   "metadata": {},
   "source": [
    "https://www.irs.gov/statistics/soi-tax-stats-individual-income-tax-statistics-2016-zip-code-data-soi"
   ]
  },
  {
   "cell_type": "code",
   "execution_count": 5,
   "metadata": {
    "ExecuteTime": {
     "end_time": "2019-09-16T22:45:43.686816Z",
     "start_time": "2019-09-16T22:45:42.518822Z"
    }
   },
   "outputs": [],
   "source": [
    "zc_df = pd.read_csv(\"./16zpallagi.csv\")\n",
    "pop_df = pd.read_csv('./2010_census_zip_pop.csv')"
   ]
  },
  {
   "cell_type": "markdown",
   "metadata": {},
   "source": [
    "* A02650: Total income\n",
    "* NUMDEP: Number of Dependents\n",
    "* N02300: Number of returns with unemployment"
   ]
  },
  {
   "cell_type": "code",
   "execution_count": 16,
   "metadata": {
    "ExecuteTime": {
     "end_time": "2019-09-16T22:50:45.599076Z",
     "start_time": "2019-09-16T22:50:45.277784Z"
    }
   },
   "outputs": [
    {
     "data": {
      "text/html": [
       "<div>\n",
       "<style scoped>\n",
       "    .dataframe tbody tr th:only-of-type {\n",
       "        vertical-align: middle;\n",
       "    }\n",
       "\n",
       "    .dataframe tbody tr th {\n",
       "        vertical-align: top;\n",
       "    }\n",
       "\n",
       "    .dataframe thead th {\n",
       "        text-align: right;\n",
       "    }\n",
       "</style>\n",
       "<table border=\"1\" class=\"dataframe\">\n",
       "  <thead>\n",
       "    <tr style=\"text-align: right;\">\n",
       "      <th></th>\n",
       "      <th>zipcode</th>\n",
       "      <th>total_income</th>\n",
       "      <th>num_dependents</th>\n",
       "      <th>num_unemployed</th>\n",
       "    </tr>\n",
       "  </thead>\n",
       "  <tbody>\n",
       "    <tr>\n",
       "      <th>0</th>\n",
       "      <td>0</td>\n",
       "      <td>3.397431e+07</td>\n",
       "      <td>304947.581699</td>\n",
       "      <td>18300.490196</td>\n",
       "    </tr>\n",
       "    <tr>\n",
       "      <th>1</th>\n",
       "      <td>1001</td>\n",
       "      <td>8.542433e+04</td>\n",
       "      <td>651.666667</td>\n",
       "      <td>81.666667</td>\n",
       "    </tr>\n",
       "    <tr>\n",
       "      <th>2</th>\n",
       "      <td>1002</td>\n",
       "      <td>1.363077e+05</td>\n",
       "      <td>688.333333</td>\n",
       "      <td>48.333333</td>\n",
       "    </tr>\n",
       "    <tr>\n",
       "      <th>3</th>\n",
       "      <td>1003</td>\n",
       "      <td>4.948000e+02</td>\n",
       "      <td>0.000000</td>\n",
       "      <td>0.000000</td>\n",
       "    </tr>\n",
       "    <tr>\n",
       "      <th>4</th>\n",
       "      <td>1005</td>\n",
       "      <td>2.326833e+04</td>\n",
       "      <td>206.666667</td>\n",
       "      <td>31.666667</td>\n",
       "    </tr>\n",
       "  </tbody>\n",
       "</table>\n",
       "</div>"
      ],
      "text/plain": [
       "   zipcode  total_income  num_dependents  num_unemployed\n",
       "0        0  3.397431e+07   304947.581699    18300.490196\n",
       "1     1001  8.542433e+04      651.666667       81.666667\n",
       "2     1002  1.363077e+05      688.333333       48.333333\n",
       "3     1003  4.948000e+02        0.000000        0.000000\n",
       "4     1005  2.326833e+04      206.666667       31.666667"
      ]
     },
     "execution_count": 16,
     "metadata": {},
     "output_type": "execute_result"
    }
   ],
   "source": [
    "tax_df = zc_df.groupby('zipcode').mean().reset_index()[['zipcode','A02650', 'NUMDEP', 'N02300']]\\\n",
    ".rename(columns={'A02650': \"total_income\", 'NUMDEP': 'num_dependents', 'N02300': 'num_unemployed'})\n",
    "\n",
    "tax_df.head()"
   ]
  },
  {
   "cell_type": "code",
   "execution_count": 19,
   "metadata": {
    "ExecuteTime": {
     "end_time": "2019-09-16T22:52:24.030552Z",
     "start_time": "2019-09-16T22:52:24.027963Z"
    }
   },
   "outputs": [],
   "source": [
    "pop_df.rename(columns={'Zip Code ZCTA': 'zipcode', '2010 Census Population': '2010_population'}, inplace=True)"
   ]
  },
  {
   "cell_type": "code",
   "execution_count": 23,
   "metadata": {
    "ExecuteTime": {
     "end_time": "2019-09-16T22:53:51.430210Z",
     "start_time": "2019-09-16T22:53:51.422162Z"
    }
   },
   "outputs": [],
   "source": [
    "z_df = pop_df.merge(tax_df, on=\"zipcode\", how='inner')"
   ]
  },
  {
   "cell_type": "code",
   "execution_count": 25,
   "metadata": {
    "ExecuteTime": {
     "end_time": "2019-09-16T22:55:33.736396Z",
     "start_time": "2019-09-16T22:55:33.720618Z"
    }
   },
   "outputs": [],
   "source": [
    "def clean_zip(z):\n",
    "    cleaned = str(z) if z > 10000 else \"0\" + str(z)\n",
    "    return cleaned\n",
    "\n",
    "z_df.zipcode = z_df.zipcode.apply(clean_zip)"
   ]
  },
  {
   "cell_type": "code",
   "execution_count": 34,
   "metadata": {
    "ExecuteTime": {
     "end_time": "2019-09-16T23:00:26.778804Z",
     "start_time": "2019-09-16T23:00:26.772805Z"
    }
   },
   "outputs": [
    {
     "name": "stdout",
     "output_type": "stream",
     "text": [
      "<class 'pandas.core.frame.DataFrame'>\n",
      "RangeIndex: 811 entries, 0 to 810\n",
      "Data columns (total 6 columns):\n",
      "building_rating_id    810 non-null float64\n",
      "building_name         811 non-null object\n",
      "address               811 non-null object\n",
      "city                  811 non-null object\n",
      "state                 811 non-null object\n",
      "zipcode               811 non-null object\n",
      "dtypes: float64(1), object(5)\n",
      "memory usage: 38.1+ KB\n"
     ]
    }
   ],
   "source": [
    "with open('./cleaned_original.pkl', 'rb') as file:\n",
    "    cleaned_original = pickle.load(file)\n",
    "cleaned_original.info()"
   ]
  },
  {
   "cell_type": "code",
   "execution_count": 36,
   "metadata": {
    "ExecuteTime": {
     "end_time": "2019-09-16T23:01:54.114950Z",
     "start_time": "2019-09-16T23:01:54.103927Z"
    }
   },
   "outputs": [],
   "source": [
    "merged_zip = cleaned_original.merge(z_df, on='zipcode', how='inner')\n",
    "\n",
    "with open('./final_data.pkl', 'wb') as file:\n",
    "    pickle.dump(merged_zip, file)"
   ]
  }
 ],
 "metadata": {
  "kernelspec": {
   "display_name": "Python 3",
   "language": "python",
   "name": "python3"
  },
  "language_info": {
   "codemirror_mode": {
    "name": "ipython",
    "version": 3
   },
   "file_extension": ".py",
   "mimetype": "text/x-python",
   "name": "python",
   "nbconvert_exporter": "python",
   "pygments_lexer": "ipython3",
   "version": "3.7.3"
  }
 },
 "nbformat": 4,
 "nbformat_minor": 2
}
